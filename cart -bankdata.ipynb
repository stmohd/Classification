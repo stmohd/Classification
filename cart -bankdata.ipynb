{
 "cells": [
  {
   "cell_type": "raw",
   "metadata": {},
   "source": [
    "\n",
    "DataSet:PL_XSELL.csv\n",
    "•\tSplit data in Training (Development Sample) 70% and Hold-out Sample 30%\n",
    "•\tBuild CART Model in Python\n",
    "•\tCompare the AUC and Rank Ordering performance of Python \n"
   ]
  },
  {
   "cell_type": "code",
   "execution_count": 1,
   "metadata": {},
   "outputs": [],
   "source": [
    "import numpy as np # linear algebra\n",
    "import pandas as pd # data processing\n",
    "\n",
    "import matplotlib.pyplot as plt\n",
    "import seaborn as sns\n",
    "\n",
    "from scipy.stats import boxcox,skew,norm\n",
    "from sklearn.preprocessing import StandardScaler\n",
    "from sklearn.preprocessing import LabelEncoder\n"
   ]
  },
  {
   "cell_type": "code",
   "execution_count": 2,
   "metadata": {},
   "outputs": [],
   "source": [
    "#reading the dataset\n",
    "\n",
    "bank_data = pd.read_csv('PL_XSELL.csv')"
   ]
  },
  {
   "cell_type": "code",
   "execution_count": 3,
   "metadata": {},
   "outputs": [
    {
     "data": {
      "text/plain": [
       "(20000, 40)"
      ]
     },
     "execution_count": 3,
     "metadata": {},
     "output_type": "execute_result"
    }
   ],
   "source": [
    "bank_data.shape"
   ]
  },
  {
   "cell_type": "code",
   "execution_count": 4,
   "metadata": {
    "scrolled": true
   },
   "outputs": [
    {
     "data": {
      "text/html": [
       "<div>\n",
       "<style scoped>\n",
       "    .dataframe tbody tr th:only-of-type {\n",
       "        vertical-align: middle;\n",
       "    }\n",
       "\n",
       "    .dataframe tbody tr th {\n",
       "        vertical-align: top;\n",
       "    }\n",
       "\n",
       "    .dataframe thead th {\n",
       "        text-align: right;\n",
       "    }\n",
       "</style>\n",
       "<table border=\"1\" class=\"dataframe\">\n",
       "  <thead>\n",
       "    <tr style=\"text-align: right;\">\n",
       "      <th></th>\n",
       "      <th>CUST_ID</th>\n",
       "      <th>TARGET</th>\n",
       "      <th>AGE</th>\n",
       "      <th>GENDER</th>\n",
       "      <th>BALANCE</th>\n",
       "      <th>OCCUPATION</th>\n",
       "      <th>AGE_BKT</th>\n",
       "      <th>SCR</th>\n",
       "      <th>HOLDING_PERIOD</th>\n",
       "      <th>ACC_TYPE</th>\n",
       "      <th>...</th>\n",
       "      <th>NO_OF_IW_CHQ_BNC_TXNS</th>\n",
       "      <th>NO_OF_OW_CHQ_BNC_TXNS</th>\n",
       "      <th>AVG_AMT_PER_ATM_TXN</th>\n",
       "      <th>AVG_AMT_PER_CSH_WDL_TXN</th>\n",
       "      <th>AVG_AMT_PER_CHQ_TXN</th>\n",
       "      <th>AVG_AMT_PER_NET_TXN</th>\n",
       "      <th>AVG_AMT_PER_MOB_TXN</th>\n",
       "      <th>FLG_HAS_NOMINEE</th>\n",
       "      <th>FLG_HAS_OLD_LOAN</th>\n",
       "      <th>random</th>\n",
       "    </tr>\n",
       "  </thead>\n",
       "  <tbody>\n",
       "    <tr>\n",
       "      <th>0</th>\n",
       "      <td>C7927</td>\n",
       "      <td>0</td>\n",
       "      <td>27</td>\n",
       "      <td>M</td>\n",
       "      <td>3383.75</td>\n",
       "      <td>SELF-EMP</td>\n",
       "      <td>26-30</td>\n",
       "      <td>776</td>\n",
       "      <td>30</td>\n",
       "      <td>SA</td>\n",
       "      <td>...</td>\n",
       "      <td>0</td>\n",
       "      <td>0</td>\n",
       "      <td>13100.0</td>\n",
       "      <td>0.0</td>\n",
       "      <td>0.0</td>\n",
       "      <td>486778.50</td>\n",
       "      <td>0.0</td>\n",
       "      <td>1</td>\n",
       "      <td>1</td>\n",
       "      <td>0.000011</td>\n",
       "    </tr>\n",
       "    <tr>\n",
       "      <th>1</th>\n",
       "      <td>C6877</td>\n",
       "      <td>0</td>\n",
       "      <td>47</td>\n",
       "      <td>M</td>\n",
       "      <td>287489.04</td>\n",
       "      <td>SAL</td>\n",
       "      <td>46-50</td>\n",
       "      <td>324</td>\n",
       "      <td>28</td>\n",
       "      <td>SA</td>\n",
       "      <td>...</td>\n",
       "      <td>0</td>\n",
       "      <td>0</td>\n",
       "      <td>6600.0</td>\n",
       "      <td>0.0</td>\n",
       "      <td>0.0</td>\n",
       "      <td>799813.00</td>\n",
       "      <td>0.0</td>\n",
       "      <td>1</td>\n",
       "      <td>0</td>\n",
       "      <td>0.000111</td>\n",
       "    </tr>\n",
       "    <tr>\n",
       "      <th>2</th>\n",
       "      <td>C19922</td>\n",
       "      <td>0</td>\n",
       "      <td>40</td>\n",
       "      <td>M</td>\n",
       "      <td>18216.88</td>\n",
       "      <td>SELF-EMP</td>\n",
       "      <td>36-40</td>\n",
       "      <td>603</td>\n",
       "      <td>2</td>\n",
       "      <td>SA</td>\n",
       "      <td>...</td>\n",
       "      <td>0</td>\n",
       "      <td>1</td>\n",
       "      <td>11200.0</td>\n",
       "      <td>561120.0</td>\n",
       "      <td>24660.0</td>\n",
       "      <td>997570.00</td>\n",
       "      <td>0.0</td>\n",
       "      <td>1</td>\n",
       "      <td>1</td>\n",
       "      <td>0.000120</td>\n",
       "    </tr>\n",
       "    <tr>\n",
       "      <th>3</th>\n",
       "      <td>C8183</td>\n",
       "      <td>0</td>\n",
       "      <td>53</td>\n",
       "      <td>M</td>\n",
       "      <td>71720.48</td>\n",
       "      <td>SAL</td>\n",
       "      <td>&gt;50</td>\n",
       "      <td>196</td>\n",
       "      <td>13</td>\n",
       "      <td>CA</td>\n",
       "      <td>...</td>\n",
       "      <td>0</td>\n",
       "      <td>0</td>\n",
       "      <td>13050.0</td>\n",
       "      <td>168397.5</td>\n",
       "      <td>15195.0</td>\n",
       "      <td>247168.67</td>\n",
       "      <td>71388.0</td>\n",
       "      <td>1</td>\n",
       "      <td>0</td>\n",
       "      <td>0.000137</td>\n",
       "    </tr>\n",
       "    <tr>\n",
       "      <th>4</th>\n",
       "      <td>C12123</td>\n",
       "      <td>0</td>\n",
       "      <td>36</td>\n",
       "      <td>M</td>\n",
       "      <td>1671622.89</td>\n",
       "      <td>PROF</td>\n",
       "      <td>36-40</td>\n",
       "      <td>167</td>\n",
       "      <td>24</td>\n",
       "      <td>SA</td>\n",
       "      <td>...</td>\n",
       "      <td>0</td>\n",
       "      <td>0</td>\n",
       "      <td>0.0</td>\n",
       "      <td>808480.0</td>\n",
       "      <td>0.0</td>\n",
       "      <td>0.00</td>\n",
       "      <td>0.0</td>\n",
       "      <td>1</td>\n",
       "      <td>0</td>\n",
       "      <td>0.000174</td>\n",
       "    </tr>\n",
       "  </tbody>\n",
       "</table>\n",
       "<p>5 rows × 40 columns</p>\n",
       "</div>"
      ],
      "text/plain": [
       "  CUST_ID  TARGET  AGE GENDER     BALANCE OCCUPATION AGE_BKT  SCR  \\\n",
       "0   C7927       0   27      M     3383.75   SELF-EMP   26-30  776   \n",
       "1   C6877       0   47      M   287489.04        SAL   46-50  324   \n",
       "2  C19922       0   40      M    18216.88   SELF-EMP   36-40  603   \n",
       "3   C8183       0   53      M    71720.48        SAL     >50  196   \n",
       "4  C12123       0   36      M  1671622.89       PROF   36-40  167   \n",
       "\n",
       "   HOLDING_PERIOD ACC_TYPE    ...    NO_OF_IW_CHQ_BNC_TXNS  \\\n",
       "0              30       SA    ...                        0   \n",
       "1              28       SA    ...                        0   \n",
       "2               2       SA    ...                        0   \n",
       "3              13       CA    ...                        0   \n",
       "4              24       SA    ...                        0   \n",
       "\n",
       "   NO_OF_OW_CHQ_BNC_TXNS  AVG_AMT_PER_ATM_TXN  AVG_AMT_PER_CSH_WDL_TXN  \\\n",
       "0                      0              13100.0                      0.0   \n",
       "1                      0               6600.0                      0.0   \n",
       "2                      1              11200.0                 561120.0   \n",
       "3                      0              13050.0                 168397.5   \n",
       "4                      0                  0.0                 808480.0   \n",
       "\n",
       "   AVG_AMT_PER_CHQ_TXN  AVG_AMT_PER_NET_TXN  AVG_AMT_PER_MOB_TXN  \\\n",
       "0                  0.0            486778.50                  0.0   \n",
       "1                  0.0            799813.00                  0.0   \n",
       "2              24660.0            997570.00                  0.0   \n",
       "3              15195.0            247168.67              71388.0   \n",
       "4                  0.0                 0.00                  0.0   \n",
       "\n",
       "   FLG_HAS_NOMINEE  FLG_HAS_OLD_LOAN    random  \n",
       "0                1                 1  0.000011  \n",
       "1                1                 0  0.000111  \n",
       "2                1                 1  0.000120  \n",
       "3                1                 0  0.000137  \n",
       "4                1                 0  0.000174  \n",
       "\n",
       "[5 rows x 40 columns]"
      ]
     },
     "execution_count": 4,
     "metadata": {},
     "output_type": "execute_result"
    }
   ],
   "source": [
    "bank_data.head()"
   ]
  },
  {
   "cell_type": "code",
   "execution_count": 5,
   "metadata": {},
   "outputs": [],
   "source": [
    "bank_data.drop(['random','CUST_ID'],axis=1,inplace=True)"
   ]
  },
  {
   "cell_type": "code",
   "execution_count": 6,
   "metadata": {},
   "outputs": [
    {
     "name": "stdout",
     "output_type": "stream",
     "text": [
      "<class 'pandas.core.frame.DataFrame'>\n",
      "RangeIndex: 20000 entries, 0 to 19999\n",
      "Data columns (total 38 columns):\n",
      "TARGET                      20000 non-null int64\n",
      "AGE                         20000 non-null int64\n",
      "GENDER                      20000 non-null object\n",
      "BALANCE                     20000 non-null float64\n",
      "OCCUPATION                  20000 non-null object\n",
      "AGE_BKT                     20000 non-null object\n",
      "SCR                         20000 non-null int64\n",
      "HOLDING_PERIOD              20000 non-null int64\n",
      "ACC_TYPE                    20000 non-null object\n",
      "ACC_OP_DATE                 20000 non-null object\n",
      "LEN_OF_RLTN_IN_MNTH         20000 non-null int64\n",
      "NO_OF_L_CR_TXNS             20000 non-null int64\n",
      "NO_OF_L_DR_TXNS             20000 non-null int64\n",
      "TOT_NO_OF_L_TXNS            20000 non-null int64\n",
      "NO_OF_BR_CSH_WDL_DR_TXNS    20000 non-null int64\n",
      "NO_OF_ATM_DR_TXNS           20000 non-null int64\n",
      "NO_OF_NET_DR_TXNS           20000 non-null int64\n",
      "NO_OF_MOB_DR_TXNS           20000 non-null int64\n",
      "NO_OF_CHQ_DR_TXNS           20000 non-null int64\n",
      "FLG_HAS_CC                  20000 non-null int64\n",
      "AMT_ATM_DR                  20000 non-null int64\n",
      "AMT_BR_CSH_WDL_DR           20000 non-null int64\n",
      "AMT_CHQ_DR                  20000 non-null int64\n",
      "AMT_NET_DR                  20000 non-null float64\n",
      "AMT_MOB_DR                  20000 non-null int64\n",
      "AMT_L_DR                    20000 non-null float64\n",
      "FLG_HAS_ANY_CHGS            20000 non-null int64\n",
      "AMT_OTH_BK_ATM_USG_CHGS     20000 non-null int64\n",
      "AMT_MIN_BAL_NMC_CHGS        20000 non-null int64\n",
      "NO_OF_IW_CHQ_BNC_TXNS       20000 non-null int64\n",
      "NO_OF_OW_CHQ_BNC_TXNS       20000 non-null int64\n",
      "AVG_AMT_PER_ATM_TXN         20000 non-null float64\n",
      "AVG_AMT_PER_CSH_WDL_TXN     20000 non-null float64\n",
      "AVG_AMT_PER_CHQ_TXN         20000 non-null float64\n",
      "AVG_AMT_PER_NET_TXN         20000 non-null float64\n",
      "AVG_AMT_PER_MOB_TXN         20000 non-null float64\n",
      "FLG_HAS_NOMINEE             20000 non-null int64\n",
      "FLG_HAS_OLD_LOAN            20000 non-null int64\n",
      "dtypes: float64(8), int64(25), object(5)\n",
      "memory usage: 5.8+ MB\n"
     ]
    }
   ],
   "source": [
    "bank_data.info()#checking data types"
   ]
  },
  {
   "cell_type": "code",
   "execution_count": 7,
   "metadata": {},
   "outputs": [
    {
     "data": {
      "text/plain": [
       "TARGET                      0\n",
       "AGE                         0\n",
       "GENDER                      0\n",
       "BALANCE                     0\n",
       "OCCUPATION                  0\n",
       "AGE_BKT                     0\n",
       "SCR                         0\n",
       "HOLDING_PERIOD              0\n",
       "ACC_TYPE                    0\n",
       "ACC_OP_DATE                 0\n",
       "LEN_OF_RLTN_IN_MNTH         0\n",
       "NO_OF_L_CR_TXNS             0\n",
       "NO_OF_L_DR_TXNS             0\n",
       "TOT_NO_OF_L_TXNS            0\n",
       "NO_OF_BR_CSH_WDL_DR_TXNS    0\n",
       "NO_OF_ATM_DR_TXNS           0\n",
       "NO_OF_NET_DR_TXNS           0\n",
       "NO_OF_MOB_DR_TXNS           0\n",
       "NO_OF_CHQ_DR_TXNS           0\n",
       "FLG_HAS_CC                  0\n",
       "AMT_ATM_DR                  0\n",
       "AMT_BR_CSH_WDL_DR           0\n",
       "AMT_CHQ_DR                  0\n",
       "AMT_NET_DR                  0\n",
       "AMT_MOB_DR                  0\n",
       "AMT_L_DR                    0\n",
       "FLG_HAS_ANY_CHGS            0\n",
       "AMT_OTH_BK_ATM_USG_CHGS     0\n",
       "AMT_MIN_BAL_NMC_CHGS        0\n",
       "NO_OF_IW_CHQ_BNC_TXNS       0\n",
       "NO_OF_OW_CHQ_BNC_TXNS       0\n",
       "AVG_AMT_PER_ATM_TXN         0\n",
       "AVG_AMT_PER_CSH_WDL_TXN     0\n",
       "AVG_AMT_PER_CHQ_TXN         0\n",
       "AVG_AMT_PER_NET_TXN         0\n",
       "AVG_AMT_PER_MOB_TXN         0\n",
       "FLG_HAS_NOMINEE             0\n",
       "FLG_HAS_OLD_LOAN            0\n",
       "dtype: int64"
      ]
     },
     "execution_count": 7,
     "metadata": {},
     "output_type": "execute_result"
    }
   ],
   "source": [
    "bank_data.isna().sum()#checking null values"
   ]
  },
  {
   "cell_type": "code",
   "execution_count": 8,
   "metadata": {
    "scrolled": true
   },
   "outputs": [
    {
     "data": {
      "text/html": [
       "<div>\n",
       "<style scoped>\n",
       "    .dataframe tbody tr th:only-of-type {\n",
       "        vertical-align: middle;\n",
       "    }\n",
       "\n",
       "    .dataframe tbody tr th {\n",
       "        vertical-align: top;\n",
       "    }\n",
       "\n",
       "    .dataframe thead th {\n",
       "        text-align: right;\n",
       "    }\n",
       "</style>\n",
       "<table border=\"1\" class=\"dataframe\">\n",
       "  <thead>\n",
       "    <tr style=\"text-align: right;\">\n",
       "      <th></th>\n",
       "      <th>count</th>\n",
       "      <th>unique</th>\n",
       "      <th>top</th>\n",
       "      <th>freq</th>\n",
       "      <th>mean</th>\n",
       "      <th>std</th>\n",
       "      <th>min</th>\n",
       "      <th>25%</th>\n",
       "      <th>50%</th>\n",
       "      <th>75%</th>\n",
       "      <th>max</th>\n",
       "    </tr>\n",
       "  </thead>\n",
       "  <tbody>\n",
       "    <tr>\n",
       "      <th>TARGET</th>\n",
       "      <td>20000</td>\n",
       "      <td>NaN</td>\n",
       "      <td>NaN</td>\n",
       "      <td>NaN</td>\n",
       "      <td>0.1256</td>\n",
       "      <td>0.331406</td>\n",
       "      <td>0</td>\n",
       "      <td>0</td>\n",
       "      <td>0</td>\n",
       "      <td>0</td>\n",
       "      <td>1</td>\n",
       "    </tr>\n",
       "    <tr>\n",
       "      <th>AGE</th>\n",
       "      <td>20000</td>\n",
       "      <td>NaN</td>\n",
       "      <td>NaN</td>\n",
       "      <td>NaN</td>\n",
       "      <td>38.4181</td>\n",
       "      <td>9.57798</td>\n",
       "      <td>21</td>\n",
       "      <td>30</td>\n",
       "      <td>38</td>\n",
       "      <td>46</td>\n",
       "      <td>55</td>\n",
       "    </tr>\n",
       "    <tr>\n",
       "      <th>GENDER</th>\n",
       "      <td>20000</td>\n",
       "      <td>3</td>\n",
       "      <td>M</td>\n",
       "      <td>14376</td>\n",
       "      <td>NaN</td>\n",
       "      <td>NaN</td>\n",
       "      <td>NaN</td>\n",
       "      <td>NaN</td>\n",
       "      <td>NaN</td>\n",
       "      <td>NaN</td>\n",
       "      <td>NaN</td>\n",
       "    </tr>\n",
       "    <tr>\n",
       "      <th>BALANCE</th>\n",
       "      <td>20000</td>\n",
       "      <td>NaN</td>\n",
       "      <td>NaN</td>\n",
       "      <td>NaN</td>\n",
       "      <td>511362</td>\n",
       "      <td>723593</td>\n",
       "      <td>0</td>\n",
       "      <td>64754</td>\n",
       "      <td>231676</td>\n",
       "      <td>653877</td>\n",
       "      <td>8.36043e+06</td>\n",
       "    </tr>\n",
       "    <tr>\n",
       "      <th>OCCUPATION</th>\n",
       "      <td>20000</td>\n",
       "      <td>4</td>\n",
       "      <td>SAL</td>\n",
       "      <td>5855</td>\n",
       "      <td>NaN</td>\n",
       "      <td>NaN</td>\n",
       "      <td>NaN</td>\n",
       "      <td>NaN</td>\n",
       "      <td>NaN</td>\n",
       "      <td>NaN</td>\n",
       "      <td>NaN</td>\n",
       "    </tr>\n",
       "    <tr>\n",
       "      <th>AGE_BKT</th>\n",
       "      <td>20000</td>\n",
       "      <td>7</td>\n",
       "      <td>26-30</td>\n",
       "      <td>3434</td>\n",
       "      <td>NaN</td>\n",
       "      <td>NaN</td>\n",
       "      <td>NaN</td>\n",
       "      <td>NaN</td>\n",
       "      <td>NaN</td>\n",
       "      <td>NaN</td>\n",
       "      <td>NaN</td>\n",
       "    </tr>\n",
       "    <tr>\n",
       "      <th>SCR</th>\n",
       "      <td>20000</td>\n",
       "      <td>NaN</td>\n",
       "      <td>NaN</td>\n",
       "      <td>NaN</td>\n",
       "      <td>440.15</td>\n",
       "      <td>249.888</td>\n",
       "      <td>100</td>\n",
       "      <td>227</td>\n",
       "      <td>364</td>\n",
       "      <td>644</td>\n",
       "      <td>999</td>\n",
       "    </tr>\n",
       "    <tr>\n",
       "      <th>HOLDING_PERIOD</th>\n",
       "      <td>20000</td>\n",
       "      <td>NaN</td>\n",
       "      <td>NaN</td>\n",
       "      <td>NaN</td>\n",
       "      <td>14.9557</td>\n",
       "      <td>8.64263</td>\n",
       "      <td>1</td>\n",
       "      <td>7</td>\n",
       "      <td>15</td>\n",
       "      <td>22</td>\n",
       "      <td>31</td>\n",
       "    </tr>\n",
       "    <tr>\n",
       "      <th>ACC_TYPE</th>\n",
       "      <td>20000</td>\n",
       "      <td>2</td>\n",
       "      <td>SA</td>\n",
       "      <td>15759</td>\n",
       "      <td>NaN</td>\n",
       "      <td>NaN</td>\n",
       "      <td>NaN</td>\n",
       "      <td>NaN</td>\n",
       "      <td>NaN</td>\n",
       "      <td>NaN</td>\n",
       "      <td>NaN</td>\n",
       "    </tr>\n",
       "    <tr>\n",
       "      <th>ACC_OP_DATE</th>\n",
       "      <td>20000</td>\n",
       "      <td>4869</td>\n",
       "      <td>11/16/2010</td>\n",
       "      <td>24</td>\n",
       "      <td>NaN</td>\n",
       "      <td>NaN</td>\n",
       "      <td>NaN</td>\n",
       "      <td>NaN</td>\n",
       "      <td>NaN</td>\n",
       "      <td>NaN</td>\n",
       "      <td>NaN</td>\n",
       "    </tr>\n",
       "    <tr>\n",
       "      <th>LEN_OF_RLTN_IN_MNTH</th>\n",
       "      <td>20000</td>\n",
       "      <td>NaN</td>\n",
       "      <td>NaN</td>\n",
       "      <td>NaN</td>\n",
       "      <td>125.239</td>\n",
       "      <td>54.9539</td>\n",
       "      <td>29</td>\n",
       "      <td>79</td>\n",
       "      <td>125</td>\n",
       "      <td>172</td>\n",
       "      <td>221</td>\n",
       "    </tr>\n",
       "    <tr>\n",
       "      <th>NO_OF_L_CR_TXNS</th>\n",
       "      <td>20000</td>\n",
       "      <td>NaN</td>\n",
       "      <td>NaN</td>\n",
       "      <td>NaN</td>\n",
       "      <td>12.3481</td>\n",
       "      <td>12.1519</td>\n",
       "      <td>0</td>\n",
       "      <td>6</td>\n",
       "      <td>10</td>\n",
       "      <td>14</td>\n",
       "      <td>75</td>\n",
       "    </tr>\n",
       "    <tr>\n",
       "      <th>NO_OF_L_DR_TXNS</th>\n",
       "      <td>20000</td>\n",
       "      <td>NaN</td>\n",
       "      <td>NaN</td>\n",
       "      <td>NaN</td>\n",
       "      <td>6.6337</td>\n",
       "      <td>7.67583</td>\n",
       "      <td>0</td>\n",
       "      <td>2</td>\n",
       "      <td>5</td>\n",
       "      <td>7</td>\n",
       "      <td>74</td>\n",
       "    </tr>\n",
       "    <tr>\n",
       "      <th>TOT_NO_OF_L_TXNS</th>\n",
       "      <td>20000</td>\n",
       "      <td>NaN</td>\n",
       "      <td>NaN</td>\n",
       "      <td>NaN</td>\n",
       "      <td>18.9754</td>\n",
       "      <td>17.7593</td>\n",
       "      <td>0</td>\n",
       "      <td>9</td>\n",
       "      <td>14</td>\n",
       "      <td>21</td>\n",
       "      <td>149</td>\n",
       "    </tr>\n",
       "    <tr>\n",
       "      <th>NO_OF_BR_CSH_WDL_DR_TXNS</th>\n",
       "      <td>20000</td>\n",
       "      <td>NaN</td>\n",
       "      <td>NaN</td>\n",
       "      <td>NaN</td>\n",
       "      <td>1.883</td>\n",
       "      <td>2.2636</td>\n",
       "      <td>0</td>\n",
       "      <td>1</td>\n",
       "      <td>1</td>\n",
       "      <td>2</td>\n",
       "      <td>15</td>\n",
       "    </tr>\n",
       "    <tr>\n",
       "      <th>NO_OF_ATM_DR_TXNS</th>\n",
       "      <td>20000</td>\n",
       "      <td>NaN</td>\n",
       "      <td>NaN</td>\n",
       "      <td>NaN</td>\n",
       "      <td>1.02895</td>\n",
       "      <td>1.49724</td>\n",
       "      <td>0</td>\n",
       "      <td>0</td>\n",
       "      <td>1</td>\n",
       "      <td>1</td>\n",
       "      <td>25</td>\n",
       "    </tr>\n",
       "    <tr>\n",
       "      <th>NO_OF_NET_DR_TXNS</th>\n",
       "      <td>20000</td>\n",
       "      <td>NaN</td>\n",
       "      <td>NaN</td>\n",
       "      <td>NaN</td>\n",
       "      <td>1.17245</td>\n",
       "      <td>2.40425</td>\n",
       "      <td>0</td>\n",
       "      <td>0</td>\n",
       "      <td>0</td>\n",
       "      <td>1</td>\n",
       "      <td>22</td>\n",
       "    </tr>\n",
       "    <tr>\n",
       "      <th>NO_OF_MOB_DR_TXNS</th>\n",
       "      <td>20000</td>\n",
       "      <td>NaN</td>\n",
       "      <td>NaN</td>\n",
       "      <td>NaN</td>\n",
       "      <td>0.41175</td>\n",
       "      <td>2.00985</td>\n",
       "      <td>0</td>\n",
       "      <td>0</td>\n",
       "      <td>0</td>\n",
       "      <td>0</td>\n",
       "      <td>25</td>\n",
       "    </tr>\n",
       "    <tr>\n",
       "      <th>NO_OF_CHQ_DR_TXNS</th>\n",
       "      <td>20000</td>\n",
       "      <td>NaN</td>\n",
       "      <td>NaN</td>\n",
       "      <td>NaN</td>\n",
       "      <td>2.13755</td>\n",
       "      <td>2.38489</td>\n",
       "      <td>0</td>\n",
       "      <td>0</td>\n",
       "      <td>2</td>\n",
       "      <td>4</td>\n",
       "      <td>15</td>\n",
       "    </tr>\n",
       "    <tr>\n",
       "      <th>FLG_HAS_CC</th>\n",
       "      <td>20000</td>\n",
       "      <td>NaN</td>\n",
       "      <td>NaN</td>\n",
       "      <td>NaN</td>\n",
       "      <td>0.3054</td>\n",
       "      <td>0.460588</td>\n",
       "      <td>0</td>\n",
       "      <td>0</td>\n",
       "      <td>0</td>\n",
       "      <td>1</td>\n",
       "      <td>1</td>\n",
       "    </tr>\n",
       "    <tr>\n",
       "      <th>AMT_ATM_DR</th>\n",
       "      <td>20000</td>\n",
       "      <td>NaN</td>\n",
       "      <td>NaN</td>\n",
       "      <td>NaN</td>\n",
       "      <td>10990</td>\n",
       "      <td>15304.9</td>\n",
       "      <td>0</td>\n",
       "      <td>0</td>\n",
       "      <td>6900</td>\n",
       "      <td>15800</td>\n",
       "      <td>199300</td>\n",
       "    </tr>\n",
       "    <tr>\n",
       "      <th>AMT_BR_CSH_WDL_DR</th>\n",
       "      <td>20000</td>\n",
       "      <td>NaN</td>\n",
       "      <td>NaN</td>\n",
       "      <td>NaN</td>\n",
       "      <td>378474</td>\n",
       "      <td>331418</td>\n",
       "      <td>0</td>\n",
       "      <td>2990</td>\n",
       "      <td>340150</td>\n",
       "      <td>674675</td>\n",
       "      <td>999930</td>\n",
       "    </tr>\n",
       "    <tr>\n",
       "      <th>AMT_CHQ_DR</th>\n",
       "      <td>20000</td>\n",
       "      <td>NaN</td>\n",
       "      <td>NaN</td>\n",
       "      <td>NaN</td>\n",
       "      <td>124520</td>\n",
       "      <td>439380</td>\n",
       "      <td>0</td>\n",
       "      <td>0</td>\n",
       "      <td>23840</td>\n",
       "      <td>72470</td>\n",
       "      <td>4.92864e+06</td>\n",
       "    </tr>\n",
       "    <tr>\n",
       "      <th>AMT_NET_DR</th>\n",
       "      <td>20000</td>\n",
       "      <td>NaN</td>\n",
       "      <td>NaN</td>\n",
       "      <td>NaN</td>\n",
       "      <td>237308</td>\n",
       "      <td>319068</td>\n",
       "      <td>0</td>\n",
       "      <td>0</td>\n",
       "      <td>0</td>\n",
       "      <td>473970</td>\n",
       "      <td>999854</td>\n",
       "    </tr>\n",
       "    <tr>\n",
       "      <th>AMT_MOB_DR</th>\n",
       "      <td>20000</td>\n",
       "      <td>NaN</td>\n",
       "      <td>NaN</td>\n",
       "      <td>NaN</td>\n",
       "      <td>22424.7</td>\n",
       "      <td>49484.8</td>\n",
       "      <td>0</td>\n",
       "      <td>0</td>\n",
       "      <td>0</td>\n",
       "      <td>0</td>\n",
       "      <td>199667</td>\n",
       "    </tr>\n",
       "    <tr>\n",
       "      <th>AMT_L_DR</th>\n",
       "      <td>20000</td>\n",
       "      <td>NaN</td>\n",
       "      <td>NaN</td>\n",
       "      <td>NaN</td>\n",
       "      <td>773717</td>\n",
       "      <td>712659</td>\n",
       "      <td>0</td>\n",
       "      <td>237936</td>\n",
       "      <td>695115</td>\n",
       "      <td>1.07893e+06</td>\n",
       "      <td>6.51492e+06</td>\n",
       "    </tr>\n",
       "    <tr>\n",
       "      <th>FLG_HAS_ANY_CHGS</th>\n",
       "      <td>20000</td>\n",
       "      <td>NaN</td>\n",
       "      <td>NaN</td>\n",
       "      <td>NaN</td>\n",
       "      <td>0.1106</td>\n",
       "      <td>0.313644</td>\n",
       "      <td>0</td>\n",
       "      <td>0</td>\n",
       "      <td>0</td>\n",
       "      <td>0</td>\n",
       "      <td>1</td>\n",
       "    </tr>\n",
       "    <tr>\n",
       "      <th>AMT_OTH_BK_ATM_USG_CHGS</th>\n",
       "      <td>20000</td>\n",
       "      <td>NaN</td>\n",
       "      <td>NaN</td>\n",
       "      <td>NaN</td>\n",
       "      <td>1.0995</td>\n",
       "      <td>14.2192</td>\n",
       "      <td>0</td>\n",
       "      <td>0</td>\n",
       "      <td>0</td>\n",
       "      <td>0</td>\n",
       "      <td>250</td>\n",
       "    </tr>\n",
       "    <tr>\n",
       "      <th>AMT_MIN_BAL_NMC_CHGS</th>\n",
       "      <td>20000</td>\n",
       "      <td>NaN</td>\n",
       "      <td>NaN</td>\n",
       "      <td>NaN</td>\n",
       "      <td>1.292</td>\n",
       "      <td>14.7642</td>\n",
       "      <td>0</td>\n",
       "      <td>0</td>\n",
       "      <td>0</td>\n",
       "      <td>0</td>\n",
       "      <td>170</td>\n",
       "    </tr>\n",
       "    <tr>\n",
       "      <th>NO_OF_IW_CHQ_BNC_TXNS</th>\n",
       "      <td>20000</td>\n",
       "      <td>NaN</td>\n",
       "      <td>NaN</td>\n",
       "      <td>NaN</td>\n",
       "      <td>0.04275</td>\n",
       "      <td>0.203038</td>\n",
       "      <td>0</td>\n",
       "      <td>0</td>\n",
       "      <td>0</td>\n",
       "      <td>0</td>\n",
       "      <td>2</td>\n",
       "    </tr>\n",
       "    <tr>\n",
       "      <th>NO_OF_OW_CHQ_BNC_TXNS</th>\n",
       "      <td>20000</td>\n",
       "      <td>NaN</td>\n",
       "      <td>NaN</td>\n",
       "      <td>NaN</td>\n",
       "      <td>0.0444</td>\n",
       "      <td>0.20623</td>\n",
       "      <td>0</td>\n",
       "      <td>0</td>\n",
       "      <td>0</td>\n",
       "      <td>0</td>\n",
       "      <td>2</td>\n",
       "    </tr>\n",
       "    <tr>\n",
       "      <th>AVG_AMT_PER_ATM_TXN</th>\n",
       "      <td>20000</td>\n",
       "      <td>NaN</td>\n",
       "      <td>NaN</td>\n",
       "      <td>NaN</td>\n",
       "      <td>7408.84</td>\n",
       "      <td>7210.17</td>\n",
       "      <td>0</td>\n",
       "      <td>0</td>\n",
       "      <td>6000</td>\n",
       "      <td>13500</td>\n",
       "      <td>25000</td>\n",
       "    </tr>\n",
       "    <tr>\n",
       "      <th>AVG_AMT_PER_CSH_WDL_TXN</th>\n",
       "      <td>20000</td>\n",
       "      <td>NaN</td>\n",
       "      <td>NaN</td>\n",
       "      <td>NaN</td>\n",
       "      <td>242236</td>\n",
       "      <td>269838</td>\n",
       "      <td>0</td>\n",
       "      <td>1265.45</td>\n",
       "      <td>147095</td>\n",
       "      <td>385000</td>\n",
       "      <td>999640</td>\n",
       "    </tr>\n",
       "    <tr>\n",
       "      <th>AVG_AMT_PER_CHQ_TXN</th>\n",
       "      <td>20000</td>\n",
       "      <td>NaN</td>\n",
       "      <td>NaN</td>\n",
       "      <td>NaN</td>\n",
       "      <td>25092.5</td>\n",
       "      <td>49387.2</td>\n",
       "      <td>0</td>\n",
       "      <td>0</td>\n",
       "      <td>8645</td>\n",
       "      <td>28605</td>\n",
       "      <td>537842</td>\n",
       "    </tr>\n",
       "    <tr>\n",
       "      <th>AVG_AMT_PER_NET_TXN</th>\n",
       "      <td>20000</td>\n",
       "      <td>NaN</td>\n",
       "      <td>NaN</td>\n",
       "      <td>NaN</td>\n",
       "      <td>179059</td>\n",
       "      <td>281707</td>\n",
       "      <td>0</td>\n",
       "      <td>0</td>\n",
       "      <td>0</td>\n",
       "      <td>257699</td>\n",
       "      <td>999854</td>\n",
       "    </tr>\n",
       "    <tr>\n",
       "      <th>AVG_AMT_PER_MOB_TXN</th>\n",
       "      <td>20000</td>\n",
       "      <td>NaN</td>\n",
       "      <td>NaN</td>\n",
       "      <td>NaN</td>\n",
       "      <td>20303.9</td>\n",
       "      <td>46472.9</td>\n",
       "      <td>0</td>\n",
       "      <td>0</td>\n",
       "      <td>0</td>\n",
       "      <td>0</td>\n",
       "      <td>199667</td>\n",
       "    </tr>\n",
       "    <tr>\n",
       "      <th>FLG_HAS_NOMINEE</th>\n",
       "      <td>20000</td>\n",
       "      <td>NaN</td>\n",
       "      <td>NaN</td>\n",
       "      <td>NaN</td>\n",
       "      <td>0.90115</td>\n",
       "      <td>0.298468</td>\n",
       "      <td>0</td>\n",
       "      <td>1</td>\n",
       "      <td>1</td>\n",
       "      <td>1</td>\n",
       "      <td>1</td>\n",
       "    </tr>\n",
       "    <tr>\n",
       "      <th>FLG_HAS_OLD_LOAN</th>\n",
       "      <td>20000</td>\n",
       "      <td>NaN</td>\n",
       "      <td>NaN</td>\n",
       "      <td>NaN</td>\n",
       "      <td>0.49295</td>\n",
       "      <td>0.499963</td>\n",
       "      <td>0</td>\n",
       "      <td>0</td>\n",
       "      <td>0</td>\n",
       "      <td>1</td>\n",
       "      <td>1</td>\n",
       "    </tr>\n",
       "  </tbody>\n",
       "</table>\n",
       "</div>"
      ],
      "text/plain": [
       "                          count unique         top   freq     mean       std  \\\n",
       "TARGET                    20000    NaN         NaN    NaN   0.1256  0.331406   \n",
       "AGE                       20000    NaN         NaN    NaN  38.4181   9.57798   \n",
       "GENDER                    20000      3           M  14376      NaN       NaN   \n",
       "BALANCE                   20000    NaN         NaN    NaN   511362    723593   \n",
       "OCCUPATION                20000      4         SAL   5855      NaN       NaN   \n",
       "AGE_BKT                   20000      7       26-30   3434      NaN       NaN   \n",
       "SCR                       20000    NaN         NaN    NaN   440.15   249.888   \n",
       "HOLDING_PERIOD            20000    NaN         NaN    NaN  14.9557   8.64263   \n",
       "ACC_TYPE                  20000      2          SA  15759      NaN       NaN   \n",
       "ACC_OP_DATE               20000   4869  11/16/2010     24      NaN       NaN   \n",
       "LEN_OF_RLTN_IN_MNTH       20000    NaN         NaN    NaN  125.239   54.9539   \n",
       "NO_OF_L_CR_TXNS           20000    NaN         NaN    NaN  12.3481   12.1519   \n",
       "NO_OF_L_DR_TXNS           20000    NaN         NaN    NaN   6.6337   7.67583   \n",
       "TOT_NO_OF_L_TXNS          20000    NaN         NaN    NaN  18.9754   17.7593   \n",
       "NO_OF_BR_CSH_WDL_DR_TXNS  20000    NaN         NaN    NaN    1.883    2.2636   \n",
       "NO_OF_ATM_DR_TXNS         20000    NaN         NaN    NaN  1.02895   1.49724   \n",
       "NO_OF_NET_DR_TXNS         20000    NaN         NaN    NaN  1.17245   2.40425   \n",
       "NO_OF_MOB_DR_TXNS         20000    NaN         NaN    NaN  0.41175   2.00985   \n",
       "NO_OF_CHQ_DR_TXNS         20000    NaN         NaN    NaN  2.13755   2.38489   \n",
       "FLG_HAS_CC                20000    NaN         NaN    NaN   0.3054  0.460588   \n",
       "AMT_ATM_DR                20000    NaN         NaN    NaN    10990   15304.9   \n",
       "AMT_BR_CSH_WDL_DR         20000    NaN         NaN    NaN   378474    331418   \n",
       "AMT_CHQ_DR                20000    NaN         NaN    NaN   124520    439380   \n",
       "AMT_NET_DR                20000    NaN         NaN    NaN   237308    319068   \n",
       "AMT_MOB_DR                20000    NaN         NaN    NaN  22424.7   49484.8   \n",
       "AMT_L_DR                  20000    NaN         NaN    NaN   773717    712659   \n",
       "FLG_HAS_ANY_CHGS          20000    NaN         NaN    NaN   0.1106  0.313644   \n",
       "AMT_OTH_BK_ATM_USG_CHGS   20000    NaN         NaN    NaN   1.0995   14.2192   \n",
       "AMT_MIN_BAL_NMC_CHGS      20000    NaN         NaN    NaN    1.292   14.7642   \n",
       "NO_OF_IW_CHQ_BNC_TXNS     20000    NaN         NaN    NaN  0.04275  0.203038   \n",
       "NO_OF_OW_CHQ_BNC_TXNS     20000    NaN         NaN    NaN   0.0444   0.20623   \n",
       "AVG_AMT_PER_ATM_TXN       20000    NaN         NaN    NaN  7408.84   7210.17   \n",
       "AVG_AMT_PER_CSH_WDL_TXN   20000    NaN         NaN    NaN   242236    269838   \n",
       "AVG_AMT_PER_CHQ_TXN       20000    NaN         NaN    NaN  25092.5   49387.2   \n",
       "AVG_AMT_PER_NET_TXN       20000    NaN         NaN    NaN   179059    281707   \n",
       "AVG_AMT_PER_MOB_TXN       20000    NaN         NaN    NaN  20303.9   46472.9   \n",
       "FLG_HAS_NOMINEE           20000    NaN         NaN    NaN  0.90115  0.298468   \n",
       "FLG_HAS_OLD_LOAN          20000    NaN         NaN    NaN  0.49295  0.499963   \n",
       "\n",
       "                          min      25%     50%          75%          max  \n",
       "TARGET                      0        0       0            0            1  \n",
       "AGE                        21       30      38           46           55  \n",
       "GENDER                    NaN      NaN     NaN          NaN          NaN  \n",
       "BALANCE                     0    64754  231676       653877  8.36043e+06  \n",
       "OCCUPATION                NaN      NaN     NaN          NaN          NaN  \n",
       "AGE_BKT                   NaN      NaN     NaN          NaN          NaN  \n",
       "SCR                       100      227     364          644          999  \n",
       "HOLDING_PERIOD              1        7      15           22           31  \n",
       "ACC_TYPE                  NaN      NaN     NaN          NaN          NaN  \n",
       "ACC_OP_DATE               NaN      NaN     NaN          NaN          NaN  \n",
       "LEN_OF_RLTN_IN_MNTH        29       79     125          172          221  \n",
       "NO_OF_L_CR_TXNS             0        6      10           14           75  \n",
       "NO_OF_L_DR_TXNS             0        2       5            7           74  \n",
       "TOT_NO_OF_L_TXNS            0        9      14           21          149  \n",
       "NO_OF_BR_CSH_WDL_DR_TXNS    0        1       1            2           15  \n",
       "NO_OF_ATM_DR_TXNS           0        0       1            1           25  \n",
       "NO_OF_NET_DR_TXNS           0        0       0            1           22  \n",
       "NO_OF_MOB_DR_TXNS           0        0       0            0           25  \n",
       "NO_OF_CHQ_DR_TXNS           0        0       2            4           15  \n",
       "FLG_HAS_CC                  0        0       0            1            1  \n",
       "AMT_ATM_DR                  0        0    6900        15800       199300  \n",
       "AMT_BR_CSH_WDL_DR           0     2990  340150       674675       999930  \n",
       "AMT_CHQ_DR                  0        0   23840        72470  4.92864e+06  \n",
       "AMT_NET_DR                  0        0       0       473970       999854  \n",
       "AMT_MOB_DR                  0        0       0            0       199667  \n",
       "AMT_L_DR                    0   237936  695115  1.07893e+06  6.51492e+06  \n",
       "FLG_HAS_ANY_CHGS            0        0       0            0            1  \n",
       "AMT_OTH_BK_ATM_USG_CHGS     0        0       0            0          250  \n",
       "AMT_MIN_BAL_NMC_CHGS        0        0       0            0          170  \n",
       "NO_OF_IW_CHQ_BNC_TXNS       0        0       0            0            2  \n",
       "NO_OF_OW_CHQ_BNC_TXNS       0        0       0            0            2  \n",
       "AVG_AMT_PER_ATM_TXN         0        0    6000        13500        25000  \n",
       "AVG_AMT_PER_CSH_WDL_TXN     0  1265.45  147095       385000       999640  \n",
       "AVG_AMT_PER_CHQ_TXN         0        0    8645        28605       537842  \n",
       "AVG_AMT_PER_NET_TXN         0        0       0       257699       999854  \n",
       "AVG_AMT_PER_MOB_TXN         0        0       0            0       199667  \n",
       "FLG_HAS_NOMINEE             0        1       1            1            1  \n",
       "FLG_HAS_OLD_LOAN            0        0       0            1            1  "
      ]
     },
     "execution_count": 8,
     "metadata": {},
     "output_type": "execute_result"
    }
   ],
   "source": [
    "bank_data.describe(include='all').transpose()#descriptive statistics"
   ]
  },
  {
   "cell_type": "code",
   "execution_count": 9,
   "metadata": {},
   "outputs": [],
   "source": [
    "from sklearn.preprocessing import LabelEncoder\n",
    "le = LabelEncoder()\n",
    "bank_data['GENDER'] = le.fit_transform(bank_data['GENDER'])\n",
    "bank_data['AGE_BKT'] = le.fit_transform(bank_data['AGE_BKT'])\n",
    "bank_data['OCCUPATION'] = le.fit_transform(bank_data['OCCUPATION'])\n",
    "bank_data['ACC_TYPE'] = le.fit_transform(bank_data['ACC_TYPE'])\n"
   ]
  },
  {
   "cell_type": "code",
   "execution_count": 10,
   "metadata": {
    "scrolled": false
   },
   "outputs": [
    {
     "data": {
      "text/plain": [
       "0     3/23/2005\n",
       "1    10-11-2008\n",
       "2     4/26/2012\n",
       "Name: ACC_OP_DATE, dtype: object"
      ]
     },
     "execution_count": 10,
     "metadata": {},
     "output_type": "execute_result"
    }
   ],
   "source": [
    "bank_data['ACC_OP_DATE'][:3]"
   ]
  },
  {
   "cell_type": "code",
   "execution_count": 11,
   "metadata": {},
   "outputs": [
    {
     "data": {
      "text/plain": [
       "str"
      ]
     },
     "execution_count": 11,
     "metadata": {},
     "output_type": "execute_result"
    }
   ],
   "source": [
    "type(bank_data['ACC_OP_DATE'][0])"
   ]
  },
  {
   "cell_type": "code",
   "execution_count": null,
   "metadata": {},
   "outputs": [],
   "source": []
  },
  {
   "cell_type": "code",
   "execution_count": 12,
   "metadata": {},
   "outputs": [],
   "source": [
    "from datetime import date,datetime"
   ]
  },
  {
   "cell_type": "code",
   "execution_count": 13,
   "metadata": {
    "scrolled": true
   },
   "outputs": [],
   "source": [
    "# converting into pd datetime format"
   ]
  },
  {
   "cell_type": "code",
   "execution_count": 14,
   "metadata": {},
   "outputs": [],
   "source": [
    "bank_data['ACC_OP_DATE']=pd.to_datetime(bank_data['ACC_OP_DATE'])"
   ]
  },
  {
   "cell_type": "code",
   "execution_count": 15,
   "metadata": {},
   "outputs": [
    {
     "data": {
      "text/plain": [
       "pandas._libs.tslibs.timestamps.Timestamp"
      ]
     },
     "execution_count": 15,
     "metadata": {},
     "output_type": "execute_result"
    }
   ],
   "source": [
    "type(bank_data['ACC_OP_DATE'][0])"
   ]
  },
  {
   "cell_type": "code",
   "execution_count": 16,
   "metadata": {},
   "outputs": [
    {
     "data": {
      "text/html": [
       "<div>\n",
       "<style scoped>\n",
       "    .dataframe tbody tr th:only-of-type {\n",
       "        vertical-align: middle;\n",
       "    }\n",
       "\n",
       "    .dataframe tbody tr th {\n",
       "        vertical-align: top;\n",
       "    }\n",
       "\n",
       "    .dataframe thead th {\n",
       "        text-align: right;\n",
       "    }\n",
       "</style>\n",
       "<table border=\"1\" class=\"dataframe\">\n",
       "  <thead>\n",
       "    <tr style=\"text-align: right;\">\n",
       "      <th></th>\n",
       "      <th>TARGET</th>\n",
       "      <th>AGE</th>\n",
       "      <th>GENDER</th>\n",
       "      <th>BALANCE</th>\n",
       "      <th>OCCUPATION</th>\n",
       "      <th>AGE_BKT</th>\n",
       "      <th>SCR</th>\n",
       "      <th>HOLDING_PERIOD</th>\n",
       "      <th>ACC_TYPE</th>\n",
       "      <th>ACC_OP_DATE</th>\n",
       "      <th>...</th>\n",
       "      <th>AMT_MIN_BAL_NMC_CHGS</th>\n",
       "      <th>NO_OF_IW_CHQ_BNC_TXNS</th>\n",
       "      <th>NO_OF_OW_CHQ_BNC_TXNS</th>\n",
       "      <th>AVG_AMT_PER_ATM_TXN</th>\n",
       "      <th>AVG_AMT_PER_CSH_WDL_TXN</th>\n",
       "      <th>AVG_AMT_PER_CHQ_TXN</th>\n",
       "      <th>AVG_AMT_PER_NET_TXN</th>\n",
       "      <th>AVG_AMT_PER_MOB_TXN</th>\n",
       "      <th>FLG_HAS_NOMINEE</th>\n",
       "      <th>FLG_HAS_OLD_LOAN</th>\n",
       "    </tr>\n",
       "  </thead>\n",
       "  <tbody>\n",
       "    <tr>\n",
       "      <th>0</th>\n",
       "      <td>0</td>\n",
       "      <td>27</td>\n",
       "      <td>1</td>\n",
       "      <td>3383.75</td>\n",
       "      <td>2</td>\n",
       "      <td>0</td>\n",
       "      <td>776</td>\n",
       "      <td>30</td>\n",
       "      <td>1</td>\n",
       "      <td>2005-03-23</td>\n",
       "      <td>...</td>\n",
       "      <td>0</td>\n",
       "      <td>0</td>\n",
       "      <td>0</td>\n",
       "      <td>13100.0</td>\n",
       "      <td>0.0</td>\n",
       "      <td>0.0</td>\n",
       "      <td>486778.5</td>\n",
       "      <td>0.0</td>\n",
       "      <td>1</td>\n",
       "      <td>1</td>\n",
       "    </tr>\n",
       "    <tr>\n",
       "      <th>1</th>\n",
       "      <td>0</td>\n",
       "      <td>47</td>\n",
       "      <td>1</td>\n",
       "      <td>287489.04</td>\n",
       "      <td>1</td>\n",
       "      <td>4</td>\n",
       "      <td>324</td>\n",
       "      <td>28</td>\n",
       "      <td>1</td>\n",
       "      <td>2008-10-11</td>\n",
       "      <td>...</td>\n",
       "      <td>0</td>\n",
       "      <td>0</td>\n",
       "      <td>0</td>\n",
       "      <td>6600.0</td>\n",
       "      <td>0.0</td>\n",
       "      <td>0.0</td>\n",
       "      <td>799813.0</td>\n",
       "      <td>0.0</td>\n",
       "      <td>1</td>\n",
       "      <td>0</td>\n",
       "    </tr>\n",
       "    <tr>\n",
       "      <th>2</th>\n",
       "      <td>0</td>\n",
       "      <td>40</td>\n",
       "      <td>1</td>\n",
       "      <td>18216.88</td>\n",
       "      <td>2</td>\n",
       "      <td>2</td>\n",
       "      <td>603</td>\n",
       "      <td>2</td>\n",
       "      <td>1</td>\n",
       "      <td>2012-04-26</td>\n",
       "      <td>...</td>\n",
       "      <td>0</td>\n",
       "      <td>0</td>\n",
       "      <td>1</td>\n",
       "      <td>11200.0</td>\n",
       "      <td>561120.0</td>\n",
       "      <td>24660.0</td>\n",
       "      <td>997570.0</td>\n",
       "      <td>0.0</td>\n",
       "      <td>1</td>\n",
       "      <td>1</td>\n",
       "    </tr>\n",
       "  </tbody>\n",
       "</table>\n",
       "<p>3 rows × 38 columns</p>\n",
       "</div>"
      ],
      "text/plain": [
       "   TARGET  AGE  GENDER    BALANCE  OCCUPATION  AGE_BKT  SCR  HOLDING_PERIOD  \\\n",
       "0       0   27       1    3383.75           2        0  776              30   \n",
       "1       0   47       1  287489.04           1        4  324              28   \n",
       "2       0   40       1   18216.88           2        2  603               2   \n",
       "\n",
       "   ACC_TYPE ACC_OP_DATE        ...         AMT_MIN_BAL_NMC_CHGS  \\\n",
       "0         1  2005-03-23        ...                            0   \n",
       "1         1  2008-10-11        ...                            0   \n",
       "2         1  2012-04-26        ...                            0   \n",
       "\n",
       "   NO_OF_IW_CHQ_BNC_TXNS  NO_OF_OW_CHQ_BNC_TXNS  AVG_AMT_PER_ATM_TXN  \\\n",
       "0                      0                      0              13100.0   \n",
       "1                      0                      0               6600.0   \n",
       "2                      0                      1              11200.0   \n",
       "\n",
       "   AVG_AMT_PER_CSH_WDL_TXN  AVG_AMT_PER_CHQ_TXN  AVG_AMT_PER_NET_TXN  \\\n",
       "0                      0.0                  0.0             486778.5   \n",
       "1                      0.0                  0.0             799813.0   \n",
       "2                 561120.0              24660.0             997570.0   \n",
       "\n",
       "   AVG_AMT_PER_MOB_TXN  FLG_HAS_NOMINEE  FLG_HAS_OLD_LOAN  \n",
       "0                  0.0                1                 1  \n",
       "1                  0.0                1                 0  \n",
       "2                  0.0                1                 1  \n",
       "\n",
       "[3 rows x 38 columns]"
      ]
     },
     "execution_count": 16,
     "metadata": {},
     "output_type": "execute_result"
    }
   ],
   "source": [
    "bank_data.head(3)"
   ]
  },
  {
   "cell_type": "code",
   "execution_count": 17,
   "metadata": {
    "scrolled": true
   },
   "outputs": [
    {
     "data": {
      "text/plain": [
       "<matplotlib.axes._subplots.AxesSubplot at 0x138e396b278>"
      ]
     },
     "execution_count": 17,
     "metadata": {},
     "output_type": "execute_result"
    },
    {
     "data": {
      "image/png": "[encoded data removed]",
      "text/plain": [
       "<Figure size 1152x720 with 2 Axes>"
      ]
     },
     "metadata": {
      "needs_background": "light"
     },
     "output_type": "display_data"
    }
   ],
   "source": [
    "plt.subplots(figsize=(16,10))\n",
    "sns.heatmap(bank_data.corr())"
   ]
  },
  {
   "cell_type": "markdown",
   "metadata": {},
   "source": [
    "#Target variable has very lesscorrelation with other attributes"
   ]
  },
  {
   "cell_type": "code",
   "execution_count": 21,
   "metadata": {},
   "outputs": [
    {
     "data": {
      "text/plain": [
       "Index(['TARGET', 'AGE', 'GENDER', 'BALANCE', 'OCCUPATION', 'AGE_BKT', 'SCR',\n",
       "       'HOLDING_PERIOD', 'ACC_TYPE', 'ACC_OP_DATE', 'LEN_OF_RLTN_IN_MNTH',\n",
       "       'NO_OF_L_CR_TXNS', 'NO_OF_L_DR_TXNS', 'TOT_NO_OF_L_TXNS',\n",
       "       'NO_OF_BR_CSH_WDL_DR_TXNS', 'NO_OF_ATM_DR_TXNS', 'NO_OF_NET_DR_TXNS',\n",
       "       'NO_OF_MOB_DR_TXNS', 'NO_OF_CHQ_DR_TXNS', 'FLG_HAS_CC', 'AMT_ATM_DR',\n",
       "       'AMT_BR_CSH_WDL_DR', 'AMT_CHQ_DR', 'AMT_NET_DR', 'AMT_MOB_DR',\n",
       "       'AMT_L_DR', 'FLG_HAS_ANY_CHGS', 'AMT_OTH_BK_ATM_USG_CHGS',\n",
       "       'AMT_MIN_BAL_NMC_CHGS', 'NO_OF_IW_CHQ_BNC_TXNS',\n",
       "       'NO_OF_OW_CHQ_BNC_TXNS', 'AVG_AMT_PER_ATM_TXN',\n",
       "       'AVG_AMT_PER_CSH_WDL_TXN', 'AVG_AMT_PER_CHQ_TXN', 'AVG_AMT_PER_NET_TXN',\n",
       "       'AVG_AMT_PER_MOB_TXN', 'FLG_HAS_NOMINEE', 'FLG_HAS_OLD_LOAN'],\n",
       "      dtype='object')"
      ]
     },
     "execution_count": 21,
     "metadata": {},
     "output_type": "execute_result"
    }
   ],
   "source": [
    "bank_data.columns\n"
   ]
  },
  {
   "cell_type": "code",
   "execution_count": 22,
   "metadata": {},
   "outputs": [],
   "source": [
    "#Univariate analysis"
   ]
  },
  {
   "cell_type": "code",
   "execution_count": 23,
   "metadata": {},
   "outputs": [
    {
     "data": {
      "text/plain": [
       "0    17488\n",
       "1     2512\n",
       "Name: TARGET, dtype: int64"
      ]
     },
     "execution_count": 23,
     "metadata": {},
     "output_type": "execute_result"
    }
   ],
   "source": [
    "bank_data.TARGET.value_counts()\n"
   ]
  },
  {
   "cell_type": "code",
   "execution_count": 24,
   "metadata": {},
   "outputs": [
    {
     "data": {
      "text/plain": [
       "<matplotlib.axes._subplots.AxesSubplot at 0x138e44ac860>"
      ]
     },
     "execution_count": 24,
     "metadata": {},
     "output_type": "execute_result"
    },
    {
     "data": {
      "image/png": "[encoded data removed]",
      "text/plain": [
       "<Figure size 432x288 with 1 Axes>"
      ]
     },
     "metadata": {
      "needs_background": "light"
     },
     "output_type": "display_data"
    }
   ],
   "source": [
    "bank_data.TARGET.value_counts().plot(kind='bar')"
   ]
  },
  {
   "cell_type": "markdown",
   "metadata": {},
   "source": [
    "#class 0 is higher than class 1"
   ]
  },
  {
   "cell_type": "code",
   "execution_count": 25,
   "metadata": {},
   "outputs": [
    {
     "data": {
      "text/plain": [
       "<matplotlib.axes._subplots.AxesSubplot at 0x138e44e20b8>"
      ]
     },
     "execution_count": 25,
     "metadata": {},
     "output_type": "execute_result"
    },
    {
     "data": {
      "image/png": "[encoded data removed]",
      "text/plain": [
       "<Figure size 432x288 with 1 Axes>"
      ]
     },
     "metadata": {
      "needs_background": "light"
     },
     "output_type": "display_data"
    }
   ],
   "source": [
    "bank_data.GENDER.value_counts().plot(kind='bar')"
   ]
  },
  {
   "cell_type": "markdown",
   "metadata": {},
   "source": [
    "#Most number of account holders are of gender male"
   ]
  },
  {
   "cell_type": "code",
   "execution_count": 26,
   "metadata": {
    "scrolled": true
   },
   "outputs": [
    {
     "data": {
      "text/plain": [
       "<matplotlib.axes._subplots.AxesSubplot at 0x138e4481470>"
      ]
     },
     "execution_count": 26,
     "metadata": {},
     "output_type": "execute_result"
    },
    {
     "data": {
      "image/png": "[encoded data removed]",
      "text/plain": [
       "<Figure size 432x288 with 1 Axes>"
      ]
     },
     "metadata": {
      "needs_background": "light"
     },
     "output_type": "display_data"
    }
   ],
   "source": [
    "sns.boxplot(bank_data.AGE)"
   ]
  },
  {
   "cell_type": "markdown",
   "metadata": {},
   "source": [
    "#Most of the Account Holders(68%) are between 30 to 46 years of age"
   ]
  },
  {
   "cell_type": "code",
   "execution_count": 27,
   "metadata": {
    "scrolled": true
   },
   "outputs": [
    {
     "name": "stderr",
     "output_type": "stream",
     "text": [
      "C:\\Program Files\\Anaconda3\\lib\\site-packages\\scipy\\stats\\stats.py:1713: FutureWarning: Using a non-tuple sequence for multidimensional indexing is deprecated; use `arr[tuple(seq)]` instead of `arr[seq]`. In the future this will be interpreted as an array index, `arr[np.array(seq)]`, which will result either in an error or a different result.\n",
      "  return np.add.reduce(sorted[indexer] * weights, axis=axis) / sumval\n"
     ]
    },
    {
     "data": {
      "text/plain": [
       "<matplotlib.axes._subplots.AxesSubplot at 0x138e4544d30>"
      ]
     },
     "execution_count": 27,
     "metadata": {},
     "output_type": "execute_result"
    },
    {
     "data": {
      "image/png": "[encoded data removed]",
      "text/plain": [
       "<Figure size 432x288 with 1 Axes>"
      ]
     },
     "metadata": {
      "needs_background": "light"
     },
     "output_type": "display_data"
    }
   ],
   "source": [
    "sns.distplot(bank_data.AGE)"
   ]
  },
  {
   "cell_type": "code",
   "execution_count": 61,
   "metadata": {
    "scrolled": true
   },
   "outputs": [
    {
     "data": {
      "text/plain": [
       "<matplotlib.axes._subplots.AxesSubplot at 0x1daae02f978>"
      ]
     },
     "execution_count": 61,
     "metadata": {},
     "output_type": "execute_result"
    },
    {
     "data": {
      "image/png": "[encoded data removed]",
      "text/plain": [
       "<Figure size 432x288 with 1 Axes>"
      ]
     },
     "metadata": {
      "needs_background": "light"
     },
     "output_type": "display_data"
    }
   ],
   "source": [
    "sns.countplot(bank_data['ACC_OP_DATE'])"
   ]
  },
  {
   "cell_type": "code",
   "execution_count": 28,
   "metadata": {
    "scrolled": true
   },
   "outputs": [
    {
     "data": {
      "text/plain": [
       "<matplotlib.axes._subplots.AxesSubplot at 0x138e445b780>"
      ]
     },
     "execution_count": 28,
     "metadata": {},
     "output_type": "execute_result"
    },
    {
     "data": {
      "image/png": "[encoded data removed]",
      "text/plain": [
       "<Figure size 432x288 with 1 Axes>"
      ]
     },
     "metadata": {
      "needs_background": "light"
     },
     "output_type": "display_data"
    }
   ],
   "source": [
    "bank_data.OCCUPATION.value_counts().plot(kind='bar')"
   ]
  },
  {
   "cell_type": "code",
   "execution_count": 34,
   "metadata": {
    "scrolled": true
   },
   "outputs": [
    {
     "name": "stdout",
     "output_type": "stream",
     "text": [
      "2    725\n",
      "0    655\n",
      "1    590\n",
      "3    542\n",
      "Name: OCCUPATION, dtype: int64\n"
     ]
    },
    {
     "data": {
      "image/png": "[encoded data removed]",
      "text/plain": [
       "<Figure size 432x288 with 1 Axes>"
      ]
     },
     "metadata": {
      "needs_background": "light"
     },
     "output_type": "display_data"
    }
   ],
   "source": [
    "#occupation wise interested in new loan  policy\n",
    "bank_data.OCCUPATION[bank_data.TARGET==1].value_counts().plot(kind='bar')\n",
    "print(bank_data.OCCUPATION[bank_data.TARGET==1].value_counts())"
   ]
  },
  {
   "cell_type": "code",
   "execution_count": 42,
   "metadata": {
    "scrolled": true
   },
   "outputs": [
    {
     "data": {
      "text/plain": [
       "0    12.091564\n",
       "1    10.076857\n",
       "2    20.319507\n",
       "3    10.503876\n",
       "Name: OCCUPATION, dtype: float64"
      ]
     },
     "execution_count": 42,
     "metadata": {},
     "output_type": "execute_result"
    }
   ],
   "source": [
    "(bank_data.OCCUPATION[bank_data.TARGET==1].value_counts()/bank_data.OCCUPATION.value_counts())*100"
   ]
  },
  {
   "cell_type": "markdown",
   "metadata": {},
   "source": [
    "#Occupation group 2 is more interested in new loan policy (20%)"
   ]
  },
  {
   "cell_type": "code",
   "execution_count": 49,
   "metadata": {},
   "outputs": [
    {
     "name": "stdout",
     "output_type": "stream",
     "text": [
      "1    1794\n",
      "0     718\n",
      "Name: ACC_TYPE, dtype: int64\n"
     ]
    },
    {
     "data": {
      "image/png": "[encoded data removed]",
      "text/plain": [
       "<Figure size 432x288 with 1 Axes>"
      ]
     },
     "metadata": {
      "needs_background": "light"
     },
     "output_type": "display_data"
    }
   ],
   "source": [
    "#ACC_TYPE wise interested in new loan  policy\n",
    "bank_data.ACC_TYPE[bank_data.TARGET==1].value_counts().plot(kind='bar')\n",
    "print(bank_data.ACC_TYPE[bank_data.TARGET==1].value_counts())\n"
   ]
  },
  {
   "cell_type": "code",
   "execution_count": 50,
   "metadata": {},
   "outputs": [
    {
     "data": {
      "text/plain": [
       "1    11.383971\n",
       "0    16.929969\n",
       "Name: ACC_TYPE, dtype: float64"
      ]
     },
     "execution_count": 50,
     "metadata": {},
     "output_type": "execute_result"
    }
   ],
   "source": [
    "(bank_data.ACC_TYPE[bank_data.TARGET==1].value_counts()/bank_data.ACC_TYPE.value_counts())*100"
   ]
  },
  {
   "cell_type": "markdown",
   "metadata": {},
   "source": [
    "Percentage wise account type 0 is mor interested in new loan(16%)"
   ]
  },
  {
   "cell_type": "code",
   "execution_count": 33,
   "metadata": {
    "scrolled": true
   },
   "outputs": [
    {
     "name": "stdout",
     "output_type": "stream",
     "text": [
      "1    1930\n",
      "0     540\n",
      "2      42\n",
      "Name: GENDER, dtype: int64\n"
     ]
    },
    {
     "data": {
      "image/png": "[encoded data removed]",
      "text/plain": [
       "<Figure size 432x288 with 1 Axes>"
      ]
     },
     "metadata": {
      "needs_background": "light"
     },
     "output_type": "display_data"
    }
   ],
   "source": [
    "# Gender wise interest in new loan policy\n",
    "bank_data.GENDER[bank_data.TARGET==1].value_counts().plot(kind='bar')\n",
    "print(bank_data.GENDER[bank_data.TARGET==1].value_counts())\n"
   ]
  },
  {
   "cell_type": "code",
   "execution_count": 41,
   "metadata": {},
   "outputs": [
    {
     "data": {
      "text/plain": [
       "1    13.425153\n",
       "0     9.939260\n",
       "2    21.989529\n",
       "Name: GENDER, dtype: float64"
      ]
     },
     "execution_count": 41,
     "metadata": {},
     "output_type": "execute_result"
    }
   ],
   "source": [
    "# GENDER wise  interest in new loan \n",
    "(bank_data.GENDER[bank_data.TARGET==1].value_counts()/bank_data.GENDER.value_counts())*100"
   ]
  },
  {
   "cell_type": "markdown",
   "metadata": {},
   "source": [
    "#Male gender is more interested(13% in new loan\n",
    "#group 2 is unknown gender and total of 10 such records are present in dataset we can  ignoring those records"
   ]
  },
  {
   "cell_type": "code",
   "execution_count": 19,
   "metadata": {},
   "outputs": [],
   "source": [
    "# bank_data['ACC_OP_DATE'] = le.fit_transform(bank_data['OCCUPATION'])"
   ]
  },
  {
   "cell_type": "code",
   "execution_count": 35,
   "metadata": {
    "scrolled": true
   },
   "outputs": [
    {
     "data": {
      "text/plain": [
       "Index(['TARGET', 'AGE', 'GENDER', 'BALANCE', 'OCCUPATION', 'AGE_BKT', 'SCR',\n",
       "       'HOLDING_PERIOD', 'ACC_TYPE', 'ACC_OP_DATE', 'LEN_OF_RLTN_IN_MNTH',\n",
       "       'NO_OF_L_CR_TXNS', 'NO_OF_L_DR_TXNS', 'TOT_NO_OF_L_TXNS',\n",
       "       'NO_OF_BR_CSH_WDL_DR_TXNS', 'NO_OF_ATM_DR_TXNS', 'NO_OF_NET_DR_TXNS',\n",
       "       'NO_OF_MOB_DR_TXNS', 'NO_OF_CHQ_DR_TXNS', 'FLG_HAS_CC', 'AMT_ATM_DR',\n",
       "       'AMT_BR_CSH_WDL_DR', 'AMT_CHQ_DR', 'AMT_NET_DR', 'AMT_MOB_DR',\n",
       "       'AMT_L_DR', 'FLG_HAS_ANY_CHGS', 'AMT_OTH_BK_ATM_USG_CHGS',\n",
       "       'AMT_MIN_BAL_NMC_CHGS', 'NO_OF_IW_CHQ_BNC_TXNS',\n",
       "       'NO_OF_OW_CHQ_BNC_TXNS', 'AVG_AMT_PER_ATM_TXN',\n",
       "       'AVG_AMT_PER_CSH_WDL_TXN', 'AVG_AMT_PER_CHQ_TXN', 'AVG_AMT_PER_NET_TXN',\n",
       "       'AVG_AMT_PER_MOB_TXN', 'FLG_HAS_NOMINEE', 'FLG_HAS_OLD_LOAN'],\n",
       "      dtype='object')"
      ]
     },
     "execution_count": 35,
     "metadata": {},
     "output_type": "execute_result"
    }
   ],
   "source": [
    "bank_data.columns"
   ]
  },
  {
   "cell_type": "code",
   "execution_count": null,
   "metadata": {},
   "outputs": [],
   "source": []
  },
  {
   "cell_type": "code",
   "execution_count": 36,
   "metadata": {},
   "outputs": [
    {
     "name": "stdout",
     "output_type": "stream",
     "text": [
      "3    527\n",
      "1    400\n",
      "0    385\n",
      "2    379\n",
      "4    345\n",
      "6    311\n",
      "5    165\n",
      "Name: AGE_BKT, dtype: int64\n"
     ]
    },
    {
     "data": {
      "image/png": "[encoded data removed]",
      "text/plain": [
       "<Figure size 432x288 with 1 Axes>"
      ]
     },
     "metadata": {
      "needs_background": "light"
     },
     "output_type": "display_data"
    }
   ],
   "source": [
    "##Age Bucket interested in new policy\n",
    "bank_data.AGE_BKT[bank_data.TARGET==1].value_counts().plot(kind='bar')\n",
    "print(bank_data.AGE_BKT[bank_data.TARGET==1].value_counts())\n"
   ]
  },
  {
   "cell_type": "code",
   "execution_count": 40,
   "metadata": {
    "scrolled": true
   },
   "outputs": [
    {
     "data": {
      "text/plain": [
       "0    11.211415\n",
       "1    11.750881\n",
       "2    13.468372\n",
       "3    17.182915\n",
       "4    13.838748\n",
       "5     9.412436\n",
       "6    10.247117\n",
       "Name: AGE_BKT, dtype: float64"
      ]
     },
     "execution_count": 40,
     "metadata": {},
     "output_type": "execute_result"
    }
   ],
   "source": [
    "# % of each Age Bucket groups interested in new loan \n",
    "(bank_data.AGE_BKT[bank_data.TARGET==1].value_counts()/bank_data.AGE_BKT.value_counts())*100"
   ]
  },
  {
   "cell_type": "code",
   "execution_count": null,
   "metadata": {},
   "outputs": [],
   "source": [
    "# Age Bucket 3 is more interested(17%) in new loan policy than other age groups"
   ]
  },
  {
   "cell_type": "code",
   "execution_count": 20,
   "metadata": {
    "scrolled": true
   },
   "outputs": [
    {
     "data": {
      "text/plain": [
       "<matplotlib.axes._subplots.AxesSubplot at 0x138e4451320>"
      ]
     },
     "execution_count": 20,
     "metadata": {},
     "output_type": "execute_result"
    },
    {
     "data": {
      "image/png": "[encoded data removed]",
      "text/plain": [
       "<Figure size 432x288 with 1 Axes>"
      ]
     },
     "metadata": {
      "needs_background": "light"
     },
     "output_type": "display_data"
    }
   ],
   "source": [
    "sns.scatterplot(bank_data['ACC_OP_DATE'],bank_data.TARGET,alpha=0.1)"
   ]
  },
  {
   "cell_type": "code",
   "execution_count": null,
   "metadata": {},
   "outputs": [],
   "source": []
  },
  {
   "cell_type": "code",
   "execution_count": null,
   "metadata": {},
   "outputs": [],
   "source": []
  },
  {
   "cell_type": "code",
   "execution_count": 88,
   "metadata": {},
   "outputs": [],
   "source": [
    "#scaling data\n",
    "x = bank_data.drop(['ACC_OP_DATE','TARGET'],axis=1)\n",
    "y =bank_data.TARGET"
   ]
  },
  {
   "cell_type": "code",
   "execution_count": 89,
   "metadata": {},
   "outputs": [],
   "source": [
    "sc= StandardScaler()\n"
   ]
  },
  {
   "cell_type": "code",
   "execution_count": 90,
   "metadata": {
    "scrolled": true
   },
   "outputs": [
    {
     "name": "stderr",
     "output_type": "stream",
     "text": [
      "C:\\Program Files\\Anaconda3\\lib\\site-packages\\sklearn\\preprocessing\\data.py:617: DataConversionWarning: Data with input dtype int64, float64 were all converted to float64 by StandardScaler.\n",
      "  return self.partial_fit(X, y)\n",
      "C:\\Program Files\\Anaconda3\\lib\\site-packages\\sklearn\\base.py:462: DataConversionWarning: Data with input dtype int64, float64 were all converted to float64 by StandardScaler.\n",
      "  return self.fit(X, **fit_params).transform(X)\n"
     ]
    },
    {
     "data": {
      "text/plain": [
       "array([[-1.1921543 ,  0.56856993, -0.70203992, ..., -0.43690909,\n",
       "         0.33119959,  1.01420082],\n",
       "       [ 0.89601988,  0.56856993, -0.30939874, ..., -0.43690909,\n",
       "         0.33119959, -0.98599802],\n",
       "       [ 0.16515892,  0.56856993, -0.68154013, ..., -0.43690909,\n",
       "         0.33119959,  1.01420082],\n",
       "       ...,\n",
       "       [-0.87892818,  0.56856993, -0.50986937, ...,  2.40374275,\n",
       "         0.33119959, -0.98599802],\n",
       "       [ 0.79161117,  0.56856993, -0.16129283, ..., -0.43690909,\n",
       "         0.33119959, -0.98599802],\n",
       "       [ 0.26956763,  0.56856993, -0.69683126, ..., -0.43690909,\n",
       "         0.33119959, -0.98599802]])"
      ]
     },
     "execution_count": 90,
     "metadata": {},
     "output_type": "execute_result"
    }
   ],
   "source": [
    "sc.fit_transform(x)"
   ]
  },
  {
   "cell_type": "code",
   "execution_count": 91,
   "metadata": {},
   "outputs": [],
   "source": [
    "from sklearn.model_selection import train_test_split"
   ]
  },
  {
   "cell_type": "code",
   "execution_count": 97,
   "metadata": {},
   "outputs": [],
   "source": [
    "#splitting data into 70% btrain and 30% test\n",
    "\n",
    "x_train,x_test,y_train,y_test=train_test_split(x,y,test_size=0.3,random_state=1)"
   ]
  },
  {
   "cell_type": "code",
   "execution_count": 98,
   "metadata": {},
   "outputs": [],
   "source": [
    "#CART ALgotrithm"
   ]
  },
  {
   "cell_type": "code",
   "execution_count": 113,
   "metadata": {},
   "outputs": [],
   "source": [
    "from sklearn.tree import DecisionTreeClassifier\n",
    "import sklearn.metrics as metrics"
   ]
  },
  {
   "cell_type": "code",
   "execution_count": 100,
   "metadata": {},
   "outputs": [],
   "source": [
    "dct = DecisionTreeClassifier()"
   ]
  },
  {
   "cell_type": "code",
   "execution_count": 101,
   "metadata": {
    "scrolled": true
   },
   "outputs": [
    {
     "data": {
      "text/plain": [
       "DecisionTreeClassifier(class_weight=None, criterion='gini', max_depth=None,\n",
       "            max_features=None, max_leaf_nodes=None,\n",
       "            min_impurity_decrease=0.0, min_impurity_split=None,\n",
       "            min_samples_leaf=1, min_samples_split=2,\n",
       "            min_weight_fraction_leaf=0.0, presort=False, random_state=None,\n",
       "            splitter='best')"
      ]
     },
     "execution_count": 101,
     "metadata": {},
     "output_type": "execute_result"
    }
   ],
   "source": [
    "dct.fit(x_train,y_train)"
   ]
  },
  {
   "cell_type": "code",
   "execution_count": 102,
   "metadata": {},
   "outputs": [
    {
     "data": {
      "text/plain": [
       "1.0"
      ]
     },
     "execution_count": 102,
     "metadata": {},
     "output_type": "execute_result"
    }
   ],
   "source": [
    "#train set accuracy score\n",
    "dct.score(x_train,y_train)"
   ]
  },
  {
   "cell_type": "code",
   "execution_count": 103,
   "metadata": {},
   "outputs": [
    {
     "data": {
      "text/plain": [
       "0.9348333333333333"
      ]
     },
     "execution_count": 103,
     "metadata": {},
     "output_type": "execute_result"
    }
   ],
   "source": [
    "#test set accuracy score\n",
    "dct.score(x_test,y_test)"
   ]
  },
  {
   "cell_type": "code",
   "execution_count": null,
   "metadata": {},
   "outputs": [],
   "source": []
  },
  {
   "cell_type": "code",
   "execution_count": null,
   "metadata": {},
   "outputs": [],
   "source": [
    "#check with cross validation"
   ]
  },
  {
   "cell_type": "code",
   "execution_count": 104,
   "metadata": {},
   "outputs": [],
   "source": [
    "from sklearn.model_selection import cross_val_score"
   ]
  },
  {
   "cell_type": "code",
   "execution_count": 105,
   "metadata": {},
   "outputs": [],
   "source": [
    "cross_score = cross_val_score(dct,x_test,y_test,cv=5,scoring='accuracy')"
   ]
  },
  {
   "cell_type": "code",
   "execution_count": 106,
   "metadata": {},
   "outputs": [
    {
     "data": {
      "text/plain": [
       "array([0.8734388 , 0.85166667, 0.86166667, 0.86      , 0.88323603])"
      ]
     },
     "execution_count": 106,
     "metadata": {},
     "output_type": "execute_result"
    }
   ],
   "source": [
    "cross_score"
   ]
  },
  {
   "cell_type": "code",
   "execution_count": 108,
   "metadata": {},
   "outputs": [
    {
     "name": "stdout",
     "output_type": "stream",
     "text": [
      "0.8660016328715043\n"
     ]
    }
   ],
   "source": [
    "#mean accuracy score\n",
    "print(cross_score.mean())"
   ]
  },
  {
   "cell_type": "code",
   "execution_count": 111,
   "metadata": {},
   "outputs": [],
   "source": [
    "predit = dct.predict(x_test)#predictd values"
   ]
  },
  {
   "cell_type": "code",
   "execution_count": 121,
   "metadata": {},
   "outputs": [],
   "source": [
    "#confusion metrics\n",
    "cm=metrics.confusion_matrix(y_test,predit)"
   ]
  },
  {
   "cell_type": "code",
   "execution_count": 122,
   "metadata": {
    "scrolled": true
   },
   "outputs": [
    {
     "name": "stdout",
     "output_type": "stream",
     "text": [
      "[[5032  229]\n",
      " [ 162  577]]\n"
     ]
    }
   ],
   "source": [
    "print(cm)"
   ]
  },
  {
   "cell_type": "code",
   "execution_count": null,
   "metadata": {},
   "outputs": [],
   "source": []
  },
  {
   "cell_type": "code",
   "execution_count": 119,
   "metadata": {},
   "outputs": [],
   "source": [
    "cr=metrics.classification_report(y_test,predit)"
   ]
  },
  {
   "cell_type": "code",
   "execution_count": 120,
   "metadata": {},
   "outputs": [
    {
     "name": "stdout",
     "output_type": "stream",
     "text": [
      "              precision    recall  f1-score   support\n",
      "\n",
      "           0       0.97      0.96      0.96      5261\n",
      "           1       0.72      0.78      0.75       739\n",
      "\n",
      "   micro avg       0.93      0.93      0.93      6000\n",
      "   macro avg       0.84      0.87      0.85      6000\n",
      "weighted avg       0.94      0.93      0.94      6000\n",
      "\n"
     ]
    }
   ],
   "source": [
    "print(cr)"
   ]
  },
  {
   "cell_type": "code",
   "execution_count": 118,
   "metadata": {},
   "outputs": [
    {
     "data": {
      "image/png": "[encoded data removed]",
      "text/plain": [
       "<Figure size 432x288 with 1 Axes>"
      ]
     },
     "metadata": {
      "needs_background": "light"
     },
     "output_type": "display_data"
    }
   ],
   "source": [
    "#roc curve\n",
    "\n",
    "def roccurve(y_values, y_preds_proba):\n",
    "    fpr, tpr, _ = metrics.roc_curve(y_values, y_preds_proba)\n",
    "    xx = np.arange(101) / float(100)\n",
    "    aur = metrics.auc(fpr,tpr)\n",
    "    plt.xlim(0, 1.0)\n",
    "    plt.ylim(0, 1.25)\n",
    "    plt.plot([0.0, 0.0], [0.0, 1.0], color='green', linewidth=8)\n",
    "    plt.plot([0.0, 1.0], [1.0, 1.0], color='green', label='Perfect Model', linewidth=4)\n",
    "    plt.plot(xx,xx, color='blue', label='Random Model')\n",
    "    plt.plot(fpr,tpr, color='red', label='CART Model')\n",
    "    plt.title(\"ROC Curve - AUR value =\"+str(aur))\n",
    "    plt.xlabel('% False positives')\n",
    "    plt.ylabel('% True positives')\n",
    "    plt.legend()\n",
    "    plt.show()\n",
    "\n",
    "\n",
    "\n",
    "\n",
    "dct_test_pred_proba = dct.predict_proba(X=x_test)\n",
    "roccurve(y_values=y_test, y_preds_proba=dct_test_pred_proba[:,1])"
   ]
  },
  {
   "cell_type": "code",
   "execution_count": null,
   "metadata": {},
   "outputs": [],
   "source": []
  }
 ],
 "metadata": {
  "kernelspec": {
   "display_name": "Python [conda env:Anaconda3]",
   "language": "python",
   "name": "conda-env-Anaconda3-py"
  },
  "language_info": {
   "codemirror_mode": {
    "name": "ipython",
    "version": 3
   },
   "file_extension": ".py",
   "mimetype": "text/x-python",
   "name": "python",
   "nbconvert_exporter": "python",
   "pygments_lexer": "ipython3",
   "version": "3.5.6"
  }
 },
 "nbformat": 4,
 "nbformat_minor": 2
}
